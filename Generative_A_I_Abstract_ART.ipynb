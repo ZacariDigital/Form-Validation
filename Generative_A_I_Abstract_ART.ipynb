{
  "nbformat": 4,
  "nbformat_minor": 0,
  "metadata": {
    "colab": {
      "provenance": [],
      "gpuType": "T4",
      "authorship_tag": "ABX9TyPdPgk2zAWQ85Dz+5PVZ0oo",
      "include_colab_link": true
    },
    "kernelspec": {
      "name": "python3",
      "display_name": "Python 3"
    },
    "language_info": {
      "name": "python"
    },
    "accelerator": "GPU",
    "gpuClass": "standard"
  },
  "cells": [
    {
      "cell_type": "markdown",
      "metadata": {
        "id": "view-in-github",
        "colab_type": "text"
      },
      "source": [
        "<a href=\"https://colab.research.google.com/github/ZacariDigital/Form-Validation/blob/master/Generative_A_I_Abstract_ART.ipynb\" target=\"_parent\"><img src=\"https://colab.research.google.com/assets/colab-badge.svg\" alt=\"Open In Colab\"/></a>"
      ]
    },
    {
      "cell_type": "code",
      "source": [
        "!git clone https://github.com/openai/CLIP\n",
        "!git clone https://github.com/CompVis/taming-transformers"
      ],
      "metadata": {
        "colab": {
          "base_uri": "https://localhost:8080/"
        },
        "id": "tWiNVbiTE4bQ",
        "outputId": "3f2aabca-ef34-4a4f-c234-fe10d97a2fe9"
      },
      "execution_count": 2,
      "outputs": [
        {
          "output_type": "stream",
          "name": "stdout",
          "text": [
            "Cloning into 'CLIP'...\n",
            "remote: Enumerating objects: 243, done.\u001b[K\n",
            "remote: Total 243 (delta 0), reused 0 (delta 0), pack-reused 243\u001b[K\n",
            "Receiving objects: 100% (243/243), 8.92 MiB | 12.26 MiB/s, done.\n",
            "Resolving deltas: 100% (123/123), done.\n",
            "Cloning into 'taming-transformers'...\n",
            "remote: Enumerating objects: 1339, done.\u001b[K\n",
            "remote: Total 1339 (delta 0), reused 0 (delta 0), pack-reused 1339\u001b[K\n",
            "Receiving objects: 100% (1339/1339), 409.77 MiB | 16.75 MiB/s, done.\n",
            "Resolving deltas: 100% (279/279), done.\n"
          ]
        }
      ]
    }
  ]
}